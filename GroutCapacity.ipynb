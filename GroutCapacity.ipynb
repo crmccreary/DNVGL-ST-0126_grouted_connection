{
 "cells": [
  {
   "cell_type": "markdown",
   "metadata": {},
   "source": [
    "## Grouted connections with shear keys (pre-installed piles)"
   ]
  },
  {
   "cell_type": "code",
   "execution_count": null,
   "metadata": {},
   "outputs": [],
   "source": [
    "%matplotlib inline\n",
    "%config InlineBackend.figure_format = 'svg'"
   ]
  },
  {
   "cell_type": "code",
   "execution_count": null,
   "metadata": {},
   "outputs": [],
   "source": [
    "from pint import UnitRegistry\n",
    "u = UnitRegistry()"
   ]
  },
  {
   "cell_type": "code",
   "execution_count": null,
   "metadata": {},
   "outputs": [],
   "source": [
    "from math import pi\n",
    "from numpy import sqrt"
   ]
  },
  {
   "cell_type": "code",
   "execution_count": null,
   "metadata": {},
   "outputs": [],
   "source": [
    "from IPython.core.display import Image\n",
    "from IPython.display import display, Math"
   ]
  },
  {
   "cell_type": "code",
   "execution_count": null,
   "metadata": {},
   "outputs": [],
   "source": [
    "i = Image(filename='Page_from_DNVGL-ST-0126_Support_Structures_for_Offshore_Wind.jpg')\n",
    "i.width=800\n",
    "display(i)"
   ]
  },
  {
   "cell_type": "markdown",
   "metadata": {},
   "source": [
    "$f_{ck}$, characteristic grout compressive strength"
   ]
  },
  {
   "cell_type": "code",
   "execution_count": null,
   "metadata": {},
   "outputs": [],
   "source": [
    "f_ck = 100*u.MPa"
   ]
  },
  {
   "cell_type": "markdown",
   "metadata": {},
   "source": [
    "From DNVGL ST-0126 6.5.4.5\n",
    "\n",
    "The following requirement for the nominal contact pressure due to bending and transverse shear\n",
    "force shall be fulfilled:\n",
    "\n",
    "$$\n",
    "p_{nom,d} \\le 1.5 \\mathrm{MPa}\n",
    "$$"
   ]
  },
  {
   "cell_type": "markdown",
   "metadata": {},
   "source": [
    "Design loads"
   ]
  },
  {
   "cell_type": "code",
   "execution_count": null,
   "metadata": {},
   "outputs": [],
   "source": [
    "M_d = 6935*u.kN*u.m\n",
    "Q_d = 1520*u.kN\n",
    "P_ad = 10576*u.kN"
   ]
  },
  {
   "cell_type": "markdown",
   "metadata": {},
   "source": [
    "Number of shear keys"
   ]
  },
  {
   "cell_type": "code",
   "execution_count": null,
   "metadata": {},
   "outputs": [],
   "source": [
    "n = 5"
   ]
  },
  {
   "cell_type": "code",
   "execution_count": null,
   "metadata": {},
   "outputs": [],
   "source": [
    "p_nomd = 1.5*u.MPa"
   ]
  },
  {
   "cell_type": "markdown",
   "metadata": {},
   "source": [
    "Material factor for grout, $\\gamma_c$\n",
    "\n",
    "Note 2:\n",
    "\n",
    "When the design is to be based on dimensional data that include specified tolerances at their most unfavourable limits, structural\n",
    "imperfections, placement tolerances as to positioning of reinforcement, then these material factors can be used. When these factors\n",
    "are used, then any geometric deviations from the \"approved for construction\" drawings must be evaluated and considered in relation\n",
    "to the tolerances used in the design calculations."
   ]
  },
  {
   "cell_type": "code",
   "execution_count": null,
   "metadata": {},
   "outputs": [],
   "source": [
    "gamma_m = gamma_c = 2"
   ]
  },
  {
   "cell_type": "markdown",
   "metadata": {},
   "source": [
    "From DNVGL ST-0126 6.3.2.3\n",
    "\n",
    "$$\n",
    "f_{cn} = f_{ck} \\left(1 - \\frac{f_{ck}}{600}\\right)\n",
    "$$"
   ]
  },
  {
   "cell_type": "code",
   "execution_count": null,
   "metadata": {},
   "outputs": [],
   "source": [
    "f_cn = f_ck*(1 - f_ck/(600*u.MPa))\n",
    "display(Math(r'f_{{ {} }} = {:0.2f} MPa'.format('cn',f_cn.magnitude)))"
   ]
  },
  {
   "cell_type": "markdown",
   "metadata": {},
   "source": [
    "From DNVGL ST-0126 6.3.2.6\n",
    "\n",
    "$$\n",
    "f_{cd} = f_{cn}/\\gamma_m\n",
    "$$"
   ]
  },
  {
   "cell_type": "code",
   "execution_count": null,
   "metadata": {},
   "outputs": [],
   "source": [
    "f_cd = f_cn/gamma_m\n",
    "display(Math(r'f_{{ {} }} = {:0.2f} MPa'.format('cd',f_cd.magnitude)))"
   ]
  },
  {
   "cell_type": "markdown",
   "metadata": {},
   "source": [
    "From DNVGL ST-0126 C.1.4.3:\n",
    "\n",
    "The interface shear capacity in the grouted connection with shear keys for pre-installed piles shall be taken as\n",
    "\n",
    "$$\n",
    "f_{bk} = \\left[\\frac{800}{D_{JL}} + 140 \\left(\\frac{h}{s}\\right)^{0.8}\\right]k^{0.6} f_{ck}^{0.3}\n",
    "$$\n",
    "\n",
    "where\n",
    "\n",
    "\\begin{align*}\n",
    "h &= \\mbox{height of shear key measured radially from the grout-steel interface}\\\\\n",
    "D_{JL} &= \\mbox{jacket leg diameter in units of mm}\\\\\n",
    "s&= \\mbox{vertical centre-to-centre distance between shear keys}\\\\\n",
    "k&= \\mbox{radial stiffness parameter defined}\\\\\n",
    "\\end{align*}\n",
    "\n",
    "$k$ for a pre-installed pile is defined as \n",
    "\n",
    "$$\n",
    "k = \\left[\\frac{2 R_{JL}}{t_{JL}} + \\frac{2 R_{p}}{t_{p}}\\right]^{-1} + \\frac{E_g}{E}\\left[\\frac{2 R_p - 2 t_p}{t_g}\\right]^{-1}\n",
    "$$\n",
    "\n",
    "where\n",
    "\n",
    "\\begin{align*}\n",
    "E_g &= \\mbox{Elastic modulus of the grout}\\\\\n",
    "E &= \\mbox{Elastic modulus of the steel}\\\\\n",
    "R_p &= \\mbox{outer radius of the pile}\\\\\n",
    "t_p &= \\mbox{wall thickness of pile}\\\\\n",
    "R_{JL} &= \\mbox{outer radius of jacket leg}\\\\\n",
    "t_{JL} &= \\mbox{wall thickness of jacket leg}\\\\\n",
    "\\end{align*}\n",
    "\n",
    "However, the interface shear capacity shall not be taken larger than the limit set forth by grout matrix\n",
    "failure,\n",
    "\n",
    "$$\n",
    "f_{bk} = \\left[0.75 - 1.4 \\frac{h}{s}\\right] f_{ck}^{0.5}\n",
    "$$"
   ]
  },
  {
   "cell_type": "code",
   "execution_count": null,
   "metadata": {},
   "outputs": [],
   "source": [
    "D_JL = (75.5*u.inch).to(u.mm)\n",
    "h = 12*u.mm\n",
    "w = 2*h\n",
    "s = 165*u.mm\n",
    "E_g = 60000*u.MPa\n",
    "E = 210000*u.MPa\n",
    "R_p = (84/2*u.inch).to(u.mm)\n",
    "t_p = (1.5*u.inch).to(u.mm)\n",
    "R_JL = D_JL/2\n",
    "t_JL = (1.5*u.inch).to(u.mm) # As designed\n",
    "t_g = R_p - R_JL\n",
    "L_g = 2700*u.mm # As designed\n",
    "D_g = 2*(R_p - t_p)\n",
    "display(Math(r't_{{ {} }} = {:0.2f} mm'.format('g',t_g.magnitude)))"
   ]
  },
  {
   "cell_type": "markdown",
   "metadata": {},
   "source": [
    "From DNVGL ST-0126 C.1.4.2\n",
    "\n",
    "The design load per unit length along the circumference of one shear key shall be taken as\n",
    "\n",
    "$$\n",
    "F_{V1Shk,d} = \\frac{P_{a,d}}{2 \\pi R_{JL} n}\n",
    "$$"
   ]
  },
  {
   "cell_type": "code",
   "execution_count": null,
   "metadata": {},
   "outputs": [],
   "source": [
    "F_V1Shkd = P_ad/(2*pi*R_JL*n)\n",
    "display(Math(r'F_{{ {} }} = {:0.2f} MPa \\cdot mm'.format('V1Shk,d',F_V1Shkd.magnitude)))"
   ]
  },
  {
   "cell_type": "markdown",
   "metadata": {},
   "source": [
    "$$\n",
    "I_{JL} = \\frac{\\pi}{4}\\left(R^4 - R_i^4\\right)\n",
    "$$"
   ]
  },
  {
   "cell_type": "code",
   "execution_count": null,
   "metadata": {},
   "outputs": [],
   "source": [
    "I_JL = pi/4*(R_JL**4 - (R_JL - t_JL)**4)"
   ]
  },
  {
   "cell_type": "code",
   "execution_count": null,
   "metadata": {},
   "outputs": [],
   "source": [
    "k = 1/(2*R_JL/t_JL + 2*R_p/t_p) + (E_g/E)/((2*R_p - 2*t_p)/t_g)\n",
    "display(Math(r'k = {:0.3f}'.format(k.magnitude)))"
   ]
  },
  {
   "cell_type": "code",
   "execution_count": null,
   "metadata": {},
   "outputs": [],
   "source": [
    "f_bk = (800/D_JL.magnitude + 140*(h/s)**0.8)*k**0.6*(f_ck.magnitude)**0.3\n",
    "display(Math(r'f_{{ {} }} = {:0.2f} MPa'.format('bk',f_bk.magnitude)))"
   ]
  },
  {
   "cell_type": "code",
   "execution_count": null,
   "metadata": {},
   "outputs": [],
   "source": [
    "f_bk_max = (0.75 - 1.4*(h/s))*(f_ck.magnitude)**0.5\n",
    "display(Math(r'f_{{ {} }}^{{ {}}} = {:0.2f} MPa'.format('bk','max',f_bk_max.magnitude)))"
   ]
  },
  {
   "cell_type": "code",
   "execution_count": null,
   "metadata": {},
   "outputs": [],
   "source": [
    "f_bk = min(f_bk, f_bk_max)*u.MPa\n",
    "display(Math(r'f_{{ {} }} = {:0.2f} MPa'.format('bk',f_bk.magnitude)))"
   ]
  },
  {
   "cell_type": "markdown",
   "metadata": {},
   "source": [
    "From DNVGL ST-0126 C.1.4.4:\n",
    "\n",
    "The characteristic capacity per unit length of one shear key is\n",
    "\n",
    "$$\n",
    "F_{V1 Shk cap} = f_{bk} s\n",
    "$$"
   ]
  },
  {
   "cell_type": "code",
   "execution_count": null,
   "metadata": {},
   "outputs": [],
   "source": [
    "F_V1Shkcap = f_bk*s\n",
    "display(Math(r'F_{{ {} }} = {:0.2f} MPa \\cdot mm'.format('V1 Shk cap',F_V1Shkcap.magnitude)))"
   ]
  },
  {
   "cell_type": "markdown",
   "metadata": {},
   "source": [
    "From DNVGL ST-0126 C.1.4.5:\n",
    "\n",
    "The design capacity per unit length of one shear key is\n",
    "\n",
    "$$\n",
    "F_{V1 Shk cap,d} = \\frac{F_{V1 Shk cap}}{\\gamma_m}\n",
    "$$"
   ]
  },
  {
   "cell_type": "code",
   "execution_count": null,
   "metadata": {},
   "outputs": [],
   "source": [
    "F_V1Shkcapd = F_V1Shkcap/gamma_m\n",
    "display(Math(r'F_{{ {} }} = {:0.2f} MPa \\cdot mm'.format('V1 Shk cap,d',F_V1Shkcapd.magnitude)))"
   ]
  },
  {
   "cell_type": "markdown",
   "metadata": {},
   "source": [
    "Utilization ratio"
   ]
  },
  {
   "cell_type": "code",
   "execution_count": null,
   "metadata": {},
   "outputs": [],
   "source": [
    "UR_shear = (F_V1Shkd/F_V1Shkcapd).to(u.dimensionless)\n",
    "display(Math(r'UR_{{ {} }} = {:0.2f}'.format('shear',UR_shear.magnitude)))\n",
    "if UR_shear <= 1.0:\n",
    "    print('PASS')\n",
    "else:\n",
    "    print('FAIL')"
   ]
  },
  {
   "cell_type": "markdown",
   "metadata": {},
   "source": [
    "From DNVGL ST-0126 C.1.4.6:\n",
    "\n",
    "The following requirement for the vertical distance between shear keys shall be fulfilled\n",
    "\n",
    "$$\n",
    "s \\ge \\min\\left(0.8 \\sqrt{R_p t_p}, 0.8 \\sqrt{R_{JL} t_{JL}}\\right)\n",
    "$$"
   ]
  },
  {
   "cell_type": "code",
   "execution_count": null,
   "metadata": {},
   "outputs": [],
   "source": [
    "s_min = min(0.8*sqrt(R_p*t_p), 0.8*sqrt(R_JL*t_JL))\n",
    "display(Math(r's = {:0.3f} mm'.format(s.magnitude)))"
   ]
  },
  {
   "cell_type": "code",
   "execution_count": null,
   "metadata": {},
   "outputs": [],
   "source": [
    "if s >= s_min:\n",
    "    print('PASS')\n",
    "else:\n",
    "    print('FAIL')"
   ]
  },
  {
   "cell_type": "markdown",
   "metadata": {},
   "source": [
    "From DNVGL ST-0126 C.1.4.7:\n",
    "\n",
    "$$\n",
    "h \\ge 5 \\mathrm{mm} \\quad 1.5 \\le \\frac{w}{h} \\le 3.0 \\quad \\frac{h}{s} \\le 0.10\n",
    "$$"
   ]
  },
  {
   "cell_type": "code",
   "execution_count": null,
   "metadata": {},
   "outputs": [],
   "source": [
    "if h >= 5*u.mm:\n",
    "    print('PASS')\n",
    "else:\n",
    "    print('FAIL')"
   ]
  },
  {
   "cell_type": "code",
   "execution_count": null,
   "metadata": {},
   "outputs": [],
   "source": [
    "if 1.5 <= w/h and w/h <= 3.0:\n",
    "    print('PASS')\n",
    "else:\n",
    "    print('FAIL')"
   ]
  },
  {
   "cell_type": "code",
   "execution_count": null,
   "metadata": {},
   "outputs": [],
   "source": [
    "if h/s <= 0.1:\n",
    "    print('PASS')\n",
    "else:\n",
    "    print('FAIL')"
   ]
  },
  {
   "cell_type": "markdown",
   "metadata": {},
   "source": [
    "From DNVGL ST-0126 C.1.4.8:\n",
    "\n",
    "It is recommended that the grout-length-to-pile-diameter ratio is kept within the following range:\n",
    "\n",
    "$$\n",
    "1 \\le \\frac{L_g}{D_{JL}} \\le 10\n",
    "$$"
   ]
  },
  {
   "cell_type": "code",
   "execution_count": null,
   "metadata": {},
   "outputs": [],
   "source": [
    "if 1 <= L_g/D_JL and L_g/D_JL <= 10:\n",
    "    print('PASS')\n",
    "else:\n",
    "    print('FAIL')"
   ]
  },
  {
   "cell_type": "code",
   "execution_count": null,
   "metadata": {},
   "outputs": [],
   "source": [
    "display(Math(r'L_{{ {} }}/D_{{ {} }} = {:0.0f}'.format('g','JL',(L_g/D_JL).magnitude)))"
   ]
  },
  {
   "cell_type": "markdown",
   "metadata": {},
   "source": [
    "From DNVGL ST-0126 C.1.4.9:\n",
    "\n",
    "It is recommended that the grout dimensions meet the following limitations:\n",
    "\n",
    "$$\n",
    "10 \\le \\frac{D_g}{t_{g}} \\le 45\n",
    "$$"
   ]
  },
  {
   "cell_type": "code",
   "execution_count": null,
   "metadata": {},
   "outputs": [],
   "source": [
    "if 10 <= D_g/t_g and D_g/t_g <= 45:\n",
    "    print('PASS')\n",
    "else:\n",
    "    print('FAIL')"
   ]
  },
  {
   "cell_type": "markdown",
   "metadata": {},
   "source": [
    "From DNVGL ST-0126 C.1.4.10:\n",
    "\n",
    "The following requirement for the geometry of the pile shall be fulfilled:\n",
    "\n",
    "$$\n",
    "10 \\le \\frac{R_{JL}}{t_{JL}} \\le 30\n",
    "$$"
   ]
  },
  {
   "cell_type": "code",
   "execution_count": null,
   "metadata": {},
   "outputs": [],
   "source": [
    "if 10 <= R_JL/t_JL and R_JL/t_JL <= 30:\n",
    "    print('PASS')\n",
    "else:\n",
    "    print('FAIL')"
   ]
  },
  {
   "cell_type": "markdown",
   "metadata": {},
   "source": [
    "From DNVGL ST-0126 C.1.4.13:\n",
    "\n",
    "For connections involving pre-installed piles, the region which is significantly affected by the\n",
    "bending moment is the region of the connection from a level half an elastic length below the top of the\n",
    "connection and upwards.\n",
    "\n",
    "The elastic length of the pile can be taken as\n",
    "\n",
    "$$\n",
    "l_e = \\sqrt[4]{\\frac{4 E I_{JL}}{k_{rD}}}\n",
    "$$\n",
    "\n",
    "From DNVGL ST-0126 C.1.4.14:\n",
    "\n",
    "$$\n",
    "k_{rD} = \\frac{4 E R_{JL}}{\\frac{R_p^2}{t_p} + \\frac{R_{JL}^2}{t_{JL}} + t_g \\frac{E}{E_g}}\n",
    "$$"
   ]
  },
  {
   "cell_type": "code",
   "execution_count": null,
   "metadata": {},
   "outputs": [],
   "source": [
    "k_rD = (4*E*R_JL)/(R_p**2/t_p + R_JL**2/t_JL + t_g*E/E_g)\n",
    "display(Math(r'k_{{ {} }} = {:0.0f} MPa'.format('rD',(k_rD).magnitude)))"
   ]
  },
  {
   "cell_type": "code",
   "execution_count": null,
   "metadata": {},
   "outputs": [],
   "source": [
    "l_e = ((4*E*I_JL)/k_rD)**0.25\n",
    "display(Math(r'l_{{ {} }} = {:0.0f} mm'.format('e',(l_e).magnitude)))"
   ]
  },
  {
   "cell_type": "markdown",
   "metadata": {},
   "source": [
    "From DNVGL ST-0126 C.1.4.15:\n",
    "\n",
    "Unless data indicate otherwise, the maximum nominal radial contact pressure $p_{nom}$ at the\n",
    "grouted connection, caused by the design horizontal shear force $Q_d$ and the design bending moment $M_d$ at\n",
    "the bottom of the sleeve in case of post-installed piles, shall be derived from the following expression\n",
    "\n",
    "$$\n",
    "p_{nom} = \\frac{l_e^2 k_{rD}}{8 E I_{JL} R_{JL}} \\left(M_d + Q_d l_e\\right)\n",
    "$$"
   ]
  },
  {
   "cell_type": "code",
   "execution_count": null,
   "metadata": {},
   "outputs": [],
   "source": [
    "p_nom = (l_e**2*k_rD/(8*E*I_JL*R_JL)*(M_d + Q_d*l_e)).to(u.MPa)\n",
    "display(Math(r'p_{{ {} }} = {:0.0f} MPa'.format('nom',(p_nom).magnitude)))"
   ]
  },
  {
   "cell_type": "code",
   "execution_count": null,
   "metadata": {},
   "outputs": [],
   "source": [
    "UR_p = (p_nom/p_nomd).to(u.dimensionless)\n",
    "display(Math(r'UR_{{ {} }} = {:0.2f}'.format('p',UR_p.magnitude)))\n",
    "if UR_p <= 1.0:\n",
    "    print('PASS')\n",
    "else:\n",
    "    print('FAIL')"
   ]
  }
 ],
 "metadata": {
  "language_info": {
   "name": "python",
   "pygments_lexer": "ipython3"
  }
 },
 "nbformat": 4,
 "nbformat_minor": 2
}
